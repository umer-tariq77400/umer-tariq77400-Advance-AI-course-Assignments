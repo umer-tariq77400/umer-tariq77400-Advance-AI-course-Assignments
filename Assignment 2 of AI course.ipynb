{
 "cells": [
  {
   "cell_type": "markdown",
   "metadata": {},
   "source": [
    "# Hope to skill\n",
    "\n",
    "Assignment no. 1 of Advanced AI course\n",
    "\n",
    "**Umer Tariq**"
   ]
  },
  {
   "cell_type": "code",
   "execution_count": 2,
   "metadata": {},
   "outputs": [
    {
     "name": "stdout",
     "output_type": "stream",
     "text": [
      "Number of vowels:  6\n",
      "Number of consonants:  15\n"
     ]
    }
   ],
   "source": [
    "# Write a program that takes a string as input and counts the number of vowels and\n",
    "# consonants in the string. (5 marks)\n",
    "\n",
    "\n",
    "# List of vowels\n",
    "vowels = ['a', 'e', 'i', 'o', 'u']\n",
    "# List of consonants\n",
    "consonants = ['b', 'c', 'd', 'f', 'g', 'h', 'j', 'k', 'l', 'm', 'n', 'p', 'q', 'r', 's', 't', 'v', 'w', 'x', 'y', 'z']\n",
    "\n",
    "no_of_vowels = 0\n",
    "no_of_consonants = 0\n",
    "\n",
    "string = str(input(\"Enter a string: \"))\n",
    "for chr in string:\n",
    "    if chr in vowels:\n",
    "        no_of_vowels += 1\n",
    "    else:\n",
    "        no_of_consonants += 1\n",
    "\n",
    "print('Number of vowels: ', no_of_vowels)\n",
    "print('Number of consonants: ', no_of_consonants)"
   ]
  },
  {
   "cell_type": "code",
   "execution_count": 5,
   "metadata": {},
   "outputs": [
    {
     "name": "stdout",
     "output_type": "stream",
     "text": [
      "Your file extension is: ipynb\n"
     ]
    }
   ],
   "source": [
    "# Write a Python program that accepts a filename from the user and prints the extension of the file. (5 marks)\n",
    "file_name = str(input(\"Enter your file name: \"))\n",
    "print(\"Your file extension is:\",file_name.split('.')[-1])"
   ]
  },
  {
   "cell_type": "code",
   "execution_count": 9,
   "metadata": {},
   "outputs": [
    {
     "name": "stdout",
     "output_type": "stream",
     "text": [
      "200 exists in the dictionary\n"
     ]
    }
   ],
   "source": [
    "# Write a Python program to check if value 200 exists in the following dictionary. (5 marks)\n",
    "\n",
    "dictionary = {'a': 100, 'b': 200, 'c': 300}\n",
    "for key, value in dictionary.items():\n",
    "    if value == 200:\n",
    "        print('200 exists in the dictionary')"
   ]
  },
  {
   "cell_type": "code",
   "execution_count": 10,
   "metadata": {},
   "outputs": [
    {
     "name": "stdout",
     "output_type": "stream",
     "text": [
      "20\n"
     ]
    }
   ],
   "source": [
    "# The given tuple is a nested tuple. Write a Python program to print the value 20. (5 marks)\n",
    "tuple1 = (\"Orange\", [10, 20, 30], (5, 15, 25))\n",
    "print(tuple1[1][1])"
   ]
  },
  {
   "cell_type": "code",
   "execution_count": 15,
   "metadata": {},
   "outputs": [
    {
     "name": "stdout",
     "output_type": "stream",
     "text": [
      "1.69\n",
      "Underweight\n"
     ]
    }
   ],
   "source": [
    "\"\"\"Write a Python program that calculates the Body Mass Index (BMI) for a person\n",
    "based on their weight (in kilograms) and height (in meters). The BMI is calculated\n",
    "using the following formula: (5 marks)\n",
    "BMI = (weight) / (height^2)\n",
    "\n",
    "Instructions:\n",
    "\n",
    "● Prompt the user to enter their weight in kilograms.\n",
    "● Prompt the user to enter their height in meters.\n",
    "● Calculate the BMI using the provided formula.\n",
    "● Display the calculated BMI to the user.\n",
    "\n",
    "Additionally, provide an interpretation of the BMI according to the\n",
    "following categories:\n",
    "\n",
    "● BMI < 18.5: Underweight\n",
    "● 18.5 <= BMI < 25: Normal weight\n",
    "● 25 <= BMI < 30: Overweight\n",
    "● BMI >= 30: Obese\"\"\"\n",
    "\n",
    "weight = int(input(\"Enter your weight in kilograms: \"))\n",
    "height = float(input(\"Enter your height in meters: \"))\n",
    "BMI = round(weight/(height**2),2)\n",
    "print(BMI)\n",
    "\n",
    "if BMI < 18.5: \n",
    "    print(\"Underweight\")\n",
    "elif BMI < 25: \n",
    "    print(\"Normal weight\")\n",
    "elif 25 <= BMI < 30: \n",
    "    print(\"Overweight\")\n",
    "else:\n",
    "    print(\"Obese\")"
   ]
  },
  {
   "cell_type": "code",
   "execution_count": 39,
   "metadata": {},
   "outputs": [
    {
     "name": "stdout",
     "output_type": "stream",
     "text": [
      "{'m': 3, 'y': 1, 'n': 1, 'a': 1, 'e': 2, 'i': 1, 's': 1, 'u': 1, 'r': 1}\n"
     ]
    }
   ],
   "source": [
    "# Write a Python program that prompts the user to input a string. The program\n",
    "# should count the frequency of each character in the string and then print the result\n",
    "# as a dictionary.(5 marks)\n",
    "string = str(input('Enter the string: '))\n",
    "\n",
    "dictionary = {}\n",
    "chr_list = [chr.lower() for chr in string if chr not in \" \"]\n",
    "for chr in chr_list:\n",
    "    if chr not in dictionary:\n",
    "        dictionary[chr] = 1\n",
    "    else:\n",
    "        dictionary[chr] += 1\n",
    "\n",
    "print(dictionary)"
   ]
  },
  {
   "cell_type": "code",
   "execution_count": 40,
   "metadata": {},
   "outputs": [
    {
     "name": "stdout",
     "output_type": "stream",
     "text": [
      "Valid email address\n"
     ]
    }
   ],
   "source": [
    "\"\"\"Write a Python program that takes a string input from the user and checks if it is a valid\n",
    "email address. If it is valid, print \"Valid email address\", otherwise print \"Invalid email\n",
    "address\".(5 marks)\n",
    "\n",
    "Hint: Check if the string contains “@” and ends with “.net”, or “.com” to check\n",
    "validity. Example: If the email is “abc@example.com”, then it is a valid email,\n",
    "otherwise an Invalid email.\"\"\"\n",
    "\n",
    "email = str(input(\"Enter your email address here: \"))\n",
    "if '@' in email and email.split('.')[-1] in ['com', 'net']:\n",
    "    print('Valid email address')"
   ]
  },
  {
   "cell_type": "code",
   "execution_count": 43,
   "metadata": {},
   "outputs": [
    {
     "name": "stdout",
     "output_type": "stream",
     "text": [
      "6\n",
      "15\n",
      "24\n"
     ]
    }
   ],
   "source": [
    "\"\"\"Given a tuple of tuples, write a Python program to print the sum of the elements\n",
    "in each inner tuple. (5 marks)\n",
    "\n",
    "Input: ((1, 2, 3), (4, 5, 6), (7, 8, 9))\n",
    "Output: 6, 15, 24\"\"\"\n",
    "\n",
    "tuples = ((1, 2, 3), (4, 5, 6), (7, 8, 9))\n",
    "\n",
    "for tuplee in tuples:\n",
    "    print(sum(tuplee))"
   ]
  },
  {
   "cell_type": "code",
   "execution_count": 7,
   "metadata": {},
   "outputs": [
    {
     "name": "stdout",
     "output_type": "stream",
     "text": [
      "[2, 3, 5]\n"
     ]
    }
   ],
   "source": [
    "\"\"\"Create a list containing the 10 numbers . Print the first Three prime numbers from\n",
    "the list. (5 marks)\n",
    "Expected Output: List of the first three prime numbers: [2, 3, 5]\"\"\"\n",
    "\n",
    "prime_list = [1,2,3,4,5,6,7,8,9,10]\n",
    "def is_prime(n):\n",
    "    if n <= 1:\n",
    "        return False\n",
    "    if n == 2:\n",
    "        return True\n",
    "    if n % 2 == 0:\n",
    "        return False\n",
    "    for i in range(3, int(n**0.5) + 1, 2):\n",
    "        if n % i == 0:\n",
    "            return False\n",
    "    return True\n",
    "\n",
    "def get_prime_numbers_from_list(lst):\n",
    "    return [num for num in lst if is_prime(num)][:3]\n",
    "\n",
    "print(get_prime_numbers_from_list(prime_list))"
   ]
  },
  {
   "cell_type": "code",
   "execution_count": 21,
   "metadata": {},
   "outputs": [
    {
     "name": "stdout",
     "output_type": "stream",
     "text": [
      "[{'name': 'Alice', 'age': 22, 'grade': 90}, {'name': 'John', 'age': 20, 'grade': 85}, {'name': 'Bob', 'age': 21, 'grade': 80}]\n"
     ]
    }
   ],
   "source": [
    "\"\"\"10.Given a list of dictionaries representing students' information (name, age, grade),\n",
    "Write a Python program to sort the students based on their grades in descending\n",
    "order and print the sorted list. (5 marks)\n",
    "Dictionary: [\n",
    "\n",
    "{\"name\": \"John\", \"age\": 20, \"grade\": 85},\n",
    "{\"name\": \"Alice\", \"age\": 22, \"grade\": 90},\n",
    "{\"name\": \"Bob\", \"age\": 21, \"grade\": 80}\n",
    "]\"\"\"\n",
    "\n",
    "list_of_dict = [\n",
    "{\"name\": \"John\", \"age\": 20, \"grade\": 85},\n",
    "{\"name\": \"Alice\", \"age\": 22, \"grade\": 90},\n",
    "{\"name\": \"Bob\", \"age\": 21, \"grade\": 80}\n",
    "]\n",
    "\n",
    "print(sorted(list_of_dict, key=lambda x: x['grade'], reverse=True))\n"
   ]
  },
  {
   "cell_type": "code",
   "execution_count": 27,
   "metadata": {},
   "outputs": [
    {
     "name": "stdout",
     "output_type": "stream",
     "text": [
      "[1, 2, 3, 4, 5, 6, 7, 8, 9, 10]\n",
      "10\n"
     ]
    }
   ],
   "source": [
    "\"\"\"Create a program that takes a list of multiple numbers separated with commas (,) from\n",
    "the user and finds the total number of unique values in the list and also prints them. (5\n",
    "marks)\n",
    "Expected_format:\n",
    "Total number of unique values: 6\n",
    "Unique values in the list: [1, 2, 3, 4, 5, 6]\"\"\"\n",
    "\n",
    "num_list = [1, 2, 2, 3, 4, 5, 5, 6, 7, 8, 8, 9, 10, 10]\n",
    "\n",
    "unique_value_list = list(set(num_list))\n",
    "print(unique_value_list)\n",
    "print(len(unique_value_list))"
   ]
  },
  {
   "cell_type": "code",
   "execution_count": 31,
   "metadata": {},
   "outputs": [
    {
     "name": "stdout",
     "output_type": "stream",
     "text": [
      "[4, 5]\n"
     ]
    }
   ],
   "source": [
    "\"\"\"12.Write a program that takes two lists as input and returns a new list containing elements\n",
    "that are common to both lists.(Hint: Use list methods to implement this.) (5 marks)\n",
    "Input Lists:\n",
    "List 1: [1, 2, 3, 4, 5]\n",
    "List 2: [4, 5, 6, 7, 8]\n",
    "\n",
    "Common Elements: [4, 5]\"\"\"\n",
    "\n",
    "list1 =  [1, 2, 3, 4, 5]\n",
    "list2 =  [4, 5, 6, 7, 8]\n",
    "\n",
    "common_list = []\n",
    "for i in list1:\n",
    "    for j in list2:\n",
    "        if i == j:\n",
    "            common_list.append(i)\n",
    "\n",
    "print(common_list)"
   ]
  },
  {
   "cell_type": "code",
   "execution_count": 37,
   "metadata": {},
   "outputs": [
    {
     "data": {
      "text/plain": [
       "{'a': 5, 'b': 30, 'c': 40, 'd': 30}"
      ]
     },
     "execution_count": 37,
     "metadata": {},
     "output_type": "execute_result"
    }
   ],
   "source": [
    "\"\"\"13.Write a program that takes two dictionaries as input and merges them into a new\n",
    "dictionary. If there are common keys, combine their values. (5 marks)\n",
    "dict1= {'a':5, 'b':10, 'c':15}\n",
    "dict2= {'b':20, 'c':25, 'd':30}\n",
    "\n",
    "Output: {'a': 5, 'b': 30, 'c': 40, 'd': 30}\n",
    "\"\"\"\n",
    "dict1= {'a':5, 'b':10, 'c':15}\n",
    "dict2= {'b':20, 'c':25, 'd':30}\n",
    "\n",
    "for key, value in dict2.items():\n",
    "    if key in dict1:\n",
    "        dict1[key] += value\n",
    "    else:\n",
    "        dict1[key] = value\n",
    "\n",
    "dict1"
   ]
  },
  {
   "cell_type": "code",
   "execution_count": 38,
   "metadata": {},
   "outputs": [
    {
     "data": {
      "text/plain": [
       "8"
      ]
     },
     "execution_count": 38,
     "metadata": {},
     "output_type": "execute_result"
    }
   ],
   "source": [
    "base = int(input('Enter the base value here: '))\n",
    "exponent = int(input('Enter the exponent value here: '))\n",
    "\n",
    "def raise_to_power(base, exponent):\n",
    "    return base**exponent\n",
    "\n",
    "raise_to_power(base, exponent)"
   ]
  },
  {
   "cell_type": "code",
   "execution_count": 40,
   "metadata": {},
   "outputs": [
    {
     "data": {
      "text/plain": [
       "98.6"
      ]
     },
     "execution_count": 40,
     "metadata": {},
     "output_type": "execute_result"
    }
   ],
   "source": [
    "\"\"\"15.Write a program that takes a temperature in Celsius as input and converts it to\n",
    "Fahrenheit using the formula. (5 marks)\n",
    "Fahrenheit = (Celsius * 9/5) + 32.\"\"\"\n",
    "\n",
    "tem_in_cel = int(input(\"Enter the temperature in Celcius: \"))\n",
    "\n",
    "def cel_to_feh(tem_in_cel):\n",
    "    return (tem_in_cel * 9/5) + 32\n",
    "\n",
    "cel_to_feh(tem_in_cel)"
   ]
  },
  {
   "cell_type": "code",
   "execution_count": 49,
   "metadata": {},
   "outputs": [
    {
     "name": "stdout",
     "output_type": "stream",
     "text": [
      "[10, 9, 8, 7, 6, 5, 4, 3, 2, 1]\n",
      "[10, 9, 8, 7, 6, 5, 4, 3, 2, 1]\n"
     ]
    }
   ],
   "source": [
    "list_to_rev = [1, 2, 3, 4, 5, 6, 7, 8, 9, 10]\n",
    "\n",
    "rev_list1 = list_to_rev[:: -1]\n",
    "print(rev_list1)\n",
    "\n",
    "rev_list2 = []\n",
    "for i in list_to_rev:\n",
    "    rev_list2.insert(0, i)\n",
    "print(rev_list2)\n"
   ]
  },
  {
   "cell_type": "code",
   "execution_count": 60,
   "metadata": {},
   "outputs": [
    {
     "name": "stdout",
     "output_type": "stream",
     "text": [
      "Hello world of python\n",
      "['Hello', 'world', 'of', 'python']\n",
      "['python', 'of', 'world', 'Hello']\n",
      "python of world Hello\n"
     ]
    }
   ],
   "source": [
    "\"\"\"17.Given a string \"Hello World\", write a Python program to reverse the string without\n",
    "reversing the individual words. (5 marks)\n",
    "Expected Output: “World Hello”\"\"\"\n",
    "\n",
    "string_word_rev = 'Hello world of python'\n",
    "print(string_word_rev)      \n",
    "list_of_words = string_word_rev.split(' ')\n",
    "print(list_of_words)\n",
    "rev_word_list = list_of_words[:: -1]\n",
    "print(rev_word_list)\n",
    "rev_word_string = ' '.join(rev_word_list)\n",
    "print(rev_word_string)"
   ]
  },
  {
   "cell_type": "code",
   "execution_count": 61,
   "metadata": {},
   "outputs": [
    {
     "name": "stdout",
     "output_type": "stream",
     "text": [
      "The string is a palindrome\n"
     ]
    }
   ],
   "source": [
    "\"\"\"Implement a Python function is_palindrome() that checks whether a passed string is a\n",
    "palindrome (reads the same forward and backward) and tests it with \"radar\".(5 marks)\"\"\"\n",
    "\n",
    "is_it_pal = 'radar'\n",
    "\n",
    "def is_palindrome(is_it_pal):\n",
    "    if is_it_pal == is_it_pal[::-1]:\n",
    "        print(\"The string is a palindrome\")\n",
    "    else:\n",
    "        print(\"The string is not a palindrome\")\n",
    "\n",
    "is_palindrome(is_it_pal)"
   ]
  },
  {
   "cell_type": "code",
   "execution_count": 62,
   "metadata": {},
   "outputs": [
    {
     "name": "stdout",
     "output_type": "stream",
     "text": [
      "[2, 10, 32, 76, 98]\n"
     ]
    }
   ],
   "source": [
    "norm_list =  [2, 5, 3, 7, 9, 53, 10, 32, 65, 76, 98]\n",
    "\n",
    "even_list = []\n",
    "for i in norm_list:\n",
    "    if i % 2 == 0:\n",
    "        even_list.append(i)\n",
    "\n",
    "print(even_list)\n"
   ]
  },
  {
   "cell_type": "code",
   "execution_count": 65,
   "metadata": {},
   "outputs": [
    {
     "name": "stdout",
     "output_type": "stream",
     "text": [
      "{'a': 1, 'b': 2, 'c': 3}\n",
      "{'a': 1, 'b': 2, 'c': 3}\n"
     ]
    }
   ],
   "source": [
    "keys = ['a', 'b', 'c']\n",
    "values = [1, 2, 3]\n",
    "\n",
    "created_dictionary1 = dict(zip(keys, values))\n",
    "#another way\n",
    "created_dictionary2 = dict((key, value) for key, value in zip(keys, values))\n",
    "\n",
    "print(created_dictionary1)\n",
    "print(created_dictionary2)"
   ]
  }
 ],
 "metadata": {
  "kernelspec": {
   "display_name": ".venv",
   "language": "python",
   "name": "python3"
  },
  "language_info": {
   "codemirror_mode": {
    "name": "ipython",
    "version": 3
   },
   "file_extension": ".py",
   "mimetype": "text/x-python",
   "name": "python",
   "nbconvert_exporter": "python",
   "pygments_lexer": "ipython3",
   "version": "3.11.4"
  }
 },
 "nbformat": 4,
 "nbformat_minor": 2
}
