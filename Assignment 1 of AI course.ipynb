{
 "cells": [
  {
   "cell_type": "markdown",
   "metadata": {},
   "source": [
    "# Hope to skill\n",
    "\n",
    "Assignment no. 1 of Advanced AI course\n",
    "\n",
    "**Umer Tariq**"
   ]
  },
  {
   "cell_type": "code",
   "execution_count": 2,
   "metadata": {},
   "outputs": [],
   "source": [
    "# Impporting Libraries\n",
    "import numpy as np\n",
    "import pandas as pd"
   ]
  },
  {
   "cell_type": "code",
   "execution_count": 3,
   "metadata": {},
   "outputs": [
    {
     "name": "stdout",
     "output_type": "stream",
     "text": [
      "apple\n",
      "banana\n",
      "cherry\n"
     ]
    }
   ],
   "source": [
    "# Create a list named \"fruits\" containing three different fruits and display its items\n",
    "# using for loop. (Marks 10)\n",
    "\n",
    "fruits = [\"apple\", \"banana\", \"cherry\"]\n",
    "for fruit in fruits:\n",
    "    print(fruit)"
   ]
  },
  {
   "cell_type": "code",
   "execution_count": 13,
   "metadata": {},
   "outputs": [
    {
     "name": "stdout",
     "output_type": "stream",
     "text": [
      "33\n",
      "36\n",
      "12\n",
      "10\n",
      "36\n"
     ]
    }
   ],
   "source": [
    "# Create a tuple named \"numbers\" with five random numbers and display its item\n",
    "# using for loop. (Marks 10)\n",
    "\n",
    "rand_num = list(np.random.randint(100, size=5))\n",
    "for num in rand_num:\n",
    "    print(num)"
   ]
  },
  {
   "cell_type": "code",
   "execution_count": null,
   "metadata": {},
   "outputs": [],
   "source": [
    "# Create a set named \"colors\" with three different colors and display its items using\n",
    "# for loop. (Marks 10)\n",
    "\n",
    "colors = {\"red\",\"yellow\",\"blue\"}\n",
    "for color in colors:\n",
    "    print(color)"
   ]
  },
  {
   "cell_type": "code",
   "execution_count": 17,
   "metadata": {},
   "outputs": [
    {
     "name": "stdout",
     "output_type": "stream",
     "text": [
      "name : Umer\n",
      "age : 18\n",
      "grade : A+\n"
     ]
    }
   ],
   "source": [
    "\"\"\"Create a dictionary named \"student\" with the following key-value pairs: (Marks\n",
    "20)\n",
    "\n",
    "o \"name\" as the key and the student's name as the value.\n",
    "o \"age\" as the key and the student's age as the value.\n",
    "o \"grade\" as the key and the student's grade as the value.\n",
    "o Iterate over the dictionary using the for loop and display its keys\n",
    "o Iterate over the dictionary using the for loop and display its values\"\"\"\n",
    "\n",
    "dictionary = {\"name\": \"Umer\", \"age\": \"18\", \"grade\": \"A+\"}\n",
    "for key, value in dictionary.items():\n",
    "    print(key,\":\", value)"
   ]
  },
  {
   "cell_type": "code",
   "execution_count": null,
   "metadata": {},
   "outputs": [],
   "source": [
    "# Create a multi-line string named \"poem\" with a short poem of your choice. (Marks 5)\n",
    "poem = \"\"\"Twinkle twinkle little star\n",
    "How I wonder what you are\n",
    "Up above the world so high\n",
    "Like a diamond in the sky\"\"\""
   ]
  },
  {
   "cell_type": "code",
   "execution_count": 18,
   "metadata": {},
   "outputs": [],
   "source": [
    "# Write an if statement to check if the length of the \"fruits\" list is greater than 3. If it\n",
    "# is, print \"You have many fruits!\". (Marks 5)\n",
    "\n",
    "if len(fruits) > 3:\n",
    "    print(\"You have many fruits!\")"
   ]
  },
  {
   "cell_type": "code",
   "execution_count": 19,
   "metadata": {},
   "outputs": [
    {
     "name": "stdout",
     "output_type": "stream",
     "text": [
      "Your grade is B\n"
     ]
    }
   ],
   "source": [
    "\"\"\"Create a program that takes a student's numerical grade as input and prints a\n",
    "corresponding letter grade. Use if-else statements to classify the grade into\n",
    "categories such as \"A,\" \"B,\" \"C,\" \"D,\" or \"F.\" (Marks 20)\n",
    "\n",
    "o If the numerical grade is 90 or higher, the corresponding letter grade is \"A.\"\n",
    "o If the numerical grade is between 80 and 89 (inclusive), the corresponding\n",
    "letter grade is \"B.\"\n",
    "o If the numerical grade is between 70 and 79 (inclusive), the corresponding\n",
    "letter grade is \"C.\"\n",
    "o If the numerical grade is between 60 and 69 (inclusive), the corresponding\n",
    "letter grade is \"D.\"\n",
    "o If the numerical grade is below 60, the corresponding letter grade is \"F.\"\"\"\n",
    "\n",
    "grade = int(input(\"Enter your grade: \"))\n",
    "if grade >= 90:\n",
    "    print(\"Your grade is A\")\n",
    "elif grade >= 80 and grade <= 89:\n",
    "    print(\"Your grade is B\")\n",
    "elif grade >= 70 and grade <= 79:\n",
    "    print(\"Your grade is C\")\n",
    "elif grade >= 60 and grade <= 69:\n",
    "    print(\"Your grade is D\")\n",
    "else:\n",
    "    print(\"Your grade is F\")"
   ]
  },
  {
   "cell_type": "code",
   "execution_count": 20,
   "metadata": {},
   "outputs": [
    {
     "name": "stdout",
     "output_type": "stream",
     "text": [
      "Warm\n"
     ]
    }
   ],
   "source": [
    "\"\"\"Create a program that takes a temperature in Celsius as input from user and\n",
    "classifies it into categories like \"Freezing,\" \"Cold,\" \"Moderate,\" \"Warm,\" or \"Hot.\"\n",
    "Use if-else statements to define the temperature ranges for each category. (Marks\n",
    "20)\n",
    "\n",
    "o If the temperature is below -10 degrees Celsius, it's classified as \"Freezing.\"\n",
    "o If the temperature is between -10 and 0 degrees Celsius (exclusive), it's\n",
    "classified as \"Cold.\"\n",
    "o If the temperature is between 0 and 20 degrees Celsius (exclusive), it's\n",
    "classified as \"Moderate.\"\n",
    "o If the temperature is between 20 and 30 degrees Celsius (exclusive), it's\n",
    "classified as \"Warm.\"\n",
    "o If the temperature is 30 degrees Celsius or above, it's classified as \"Hot.\"\"\"\n",
    "\n",
    "temp = int(input(\"Enter the temperature in Celsius: \"))\n",
    "if temp < -10:\n",
    "    print(\"Freezing\")\n",
    "elif temp >= -10 and temp < 0:\n",
    "    print(\"Cold\")\n",
    "elif temp >= 0 and temp < 20:\n",
    "    print(\"Moderate\")\n",
    "elif temp >= 20 and temp < 30:\n",
    "    print(\"Warm\")\n",
    "else:\n",
    "    print(\"Hot\")"
   ]
  }
 ],
 "metadata": {
  "kernelspec": {
   "display_name": ".venv",
   "language": "python",
   "name": "python3"
  },
  "language_info": {
   "codemirror_mode": {
    "name": "ipython",
    "version": 3
   },
   "file_extension": ".py",
   "mimetype": "text/x-python",
   "name": "python",
   "nbconvert_exporter": "python",
   "pygments_lexer": "ipython3",
   "version": "3.11.4"
  }
 },
 "nbformat": 4,
 "nbformat_minor": 2
}
